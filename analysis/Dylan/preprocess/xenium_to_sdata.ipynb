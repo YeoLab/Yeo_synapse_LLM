{
 "cells": [
  {
   "cell_type": "markdown",
   "metadata": {},
   "source": [
    "# Xenium to Zarr Conversion Notebook\n",
    "\n",
    "This notebook converts all the Xenium datasets to the Zarr format. The Zarr format is a condensed version of the spatial dataset that allows for efficient loading of `SpatialData` objects for analysis.\n",
    "\n",
    "**Overview:**\n",
    "- **Input:** Xenium dataset directory\n",
    "- **Output:** Zarr file"
   ]
  },
  {
   "cell_type": "code",
   "execution_count": 1,
   "metadata": {
    "metadata": {}
   },
   "outputs": [],
   "source": [
    "import shutil\n",
    "from pathlib import Path\n",
    "from tqdm.auto import tqdm\n",
    "from spatialdata_io import xenium"
   ]
  },
  {
   "cell_type": "markdown",
   "metadata": {},
   "source": [
    "## Function: `convert_to_zarr`\n",
    "\n",
    "This function performs the conversion from a Xenium dataset to a Zarr file.\n",
    "\n",
    "**Parameters:**\n",
    "- `input_dir` (str): Path to the input Xenium dataset directory.\n",
    "- `output_file` (str): Path where the output Zarr file will be stored.\n",
    "\n",
    "**Process:**\n",
    "1. Reads the Xenium dataset using `spatialdata_io.xenium`.\n",
    "2. Checks if the target Zarr directory exists and removes it if so.\n",
    "3. Writes the `SpatialData` object to the Zarr backing store.\n",
    "4. Prints confirmation of the saved data.\n"
   ]
  },
  {
   "cell_type": "code",
   "execution_count": 2,
   "metadata": {
    "metadata": {}
   },
   "outputs": [],
   "source": [
    "def convert_to_zarr(input_dir, output_file):\n",
    "    \"\"\"\n",
    "    Convert a Xenium dataset to Zarr format using spatialdat_io xenium function.\n",
    "    Zarr format is a condensed version of the spatial dataset and allows us to load in SpatialData objects for analysis.\n",
    "    Args:\n",
    "        input_dir (str): Path to the input Xenium dataset directory.\n",
    "        output_file (str): Path to the output Zarr file.\n",
    "\n",
    "    \"\"\"\n",
    "    input_path = Path(input_dir)\n",
    "    output_path = Path(output_file)\n",
    "\n",
    "    sdata = xenium(input_path)\n",
    "\n",
    "    if output_path.exists():\n",
    "        shutil.rmtree(output_path)\n",
    "    sdata.write(output_path)\n",
    "\n",
    "    print(f\"Saved merscope data:\\n{sdata}\")"
   ]
  },
  {
   "cell_type": "markdown",
   "metadata": {},
   "source": [
    "## Iterating Through the Datasets\n",
    "\n",
    "This section of the notebook iterates through all the directories in the specified input path. It:\n",
    "- Extracts a name from the directory name.\n",
    "- Generates an output path for the corresponding Zarr file.\n",
    "- Calls the `convert_to_zarr` function for each dataset."
   ]
  },
  {
   "cell_type": "code",
   "execution_count": null,
   "metadata": {},
   "outputs": [],
   "source": [
    "# Iterate through all directories in the input directory and converts datsets to Zarr format\n",
    "for input_dir in tqdm(Path(\"/mnt/d/synapse/data/\").glob(\"20240814__184334__240814_MEI_YEOLAB_MsCoronal_Sag/*\")):\n",
    "    name = input_dir.name.split('_')[4]\n",
    "    output_file = Path(r\"/mnt/d/synapse/data/sdata/\") / f\"{name}.zarr\"\n",
    "    convert_to_zarr(input_dir, output_file)"
   ]
  }
 ],
 "metadata": {
  "kernelspec": {
   "display_name": "synapse",
   "language": "python",
   "name": "python3"
  },
  "language_info": {
   "codemirror_mode": {
    "name": "ipython",
    "version": 3
   },
   "file_extension": ".py",
   "mimetype": "text/x-python",
   "name": "python",
   "nbconvert_exporter": "python",
   "pygments_lexer": "ipython3",
   "version": "3.11.10"
  }
 },
 "nbformat": 4,
 "nbformat_minor": 2
}
