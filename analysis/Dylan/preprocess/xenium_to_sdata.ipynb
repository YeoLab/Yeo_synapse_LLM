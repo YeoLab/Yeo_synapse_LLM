{
 "cells": [
  {
   "cell_type": "markdown",
   "metadata": {},
   "source": [
    "# Xenium to Zarr Conversion Notebook\n",
    "\n",
    "This notebook converts all the Xenium datasets to the Zarr format. The Zarr format is a condensed version of the spatial dataset that allows for efficient loading of `SpatialData` objects for analysis.\n",
    "\n",
    "**Overview:**\n",
    "- **Input:** Xenium dataset directory\n",
    "- **Output:** Zarr file"
   ]
  },
  {
   "cell_type": "code",
   "execution_count": 1,
   "metadata": {
    "execution": {
     "iopub.execute_input": "2025-03-11T16:41:36.204890Z",
     "iopub.status.busy": "2025-03-11T16:41:36.204161Z",
     "iopub.status.idle": "2025-03-11T16:41:39.440613Z",
     "shell.execute_reply": "2025-03-11T16:41:39.439148Z",
     "shell.execute_reply.started": "2025-03-11T16:41:36.204838Z"
    },
    "metadata": {}
   },
   "outputs": [
    {
     "name": "stderr",
     "output_type": "stream",
     "text": [
      "/opt/conda/lib/python3.11/site-packages/dask/array/chunk_types.py:110: UserWarning: \n",
      "--------------------------------------------------------------------------------\n",
      "\n",
      "  CuPy may not function correctly because multiple CuPy packages are installed\n",
      "  in your environment:\n",
      "\n",
      "    cupy, cupy-cuda12x\n",
      "\n",
      "  Follow these steps to resolve this issue:\n",
      "\n",
      "    1. For all packages listed above, run the following command to remove all\n",
      "       existing CuPy installations:\n",
      "\n",
      "         $ pip uninstall <package_name>\n",
      "\n",
      "      If you previously installed CuPy via conda, also run the following:\n",
      "\n",
      "         $ conda uninstall cupy\n",
      "\n",
      "    2. Install the appropriate CuPy package.\n",
      "       Refer to the Installation Guide for detailed instructions.\n",
      "\n",
      "         https://docs.cupy.dev/en/stable/install.html\n",
      "\n",
      "--------------------------------------------------------------------------------\n",
      "\n",
      "  import cupy\n",
      "/opt/conda/lib/python3.11/site-packages/cudf/utils/_ptxcompiler.py:64: UserWarning: Error getting driver and runtime versions:\n",
      "\n",
      "stdout:\n",
      "\n",
      "\n",
      "\n",
      "stderr:\n",
      "\n",
      "Traceback (most recent call last):\n",
      "  File \"<string>\", line 4, in <module>\n",
      "  File \"/opt/conda/lib/python3.11/site-packages/numba/cuda/cudadrv/driver.py\", line 295, in __getattr__\n",
      "    raise CudaSupportError(\"Error at driver init: \\n%s:\" %\n",
      "numba.cuda.cudadrv.error.CudaSupportError: Error at driver init: \n",
      "\n",
      "CUDA driver library cannot be found.\n",
      "If you are sure that a CUDA driver is installed,\n",
      "try setting environment variable NUMBA_CUDA_DRIVER\n",
      "with the file path of the CUDA driver shared library.\n",
      ":\n",
      "\n",
      "\n",
      "Not patching Numba\n",
      "  warnings.warn(msg, UserWarning)\n",
      "/opt/conda/lib/python3.11/site-packages/cudf/utils/gpu_utils.py:62: UserWarning: Failed to dlopen libcuda.so.1\n",
      "  warnings.warn(str(e))\n",
      "<frozen importlib._bootstrap>:241: RuntimeWarning: pyarrow.lib.ChunkedArray size changed, may indicate binary incompatibility. Expected 64 from C header, got 72 from PyObject\n",
      "<frozen importlib._bootstrap>:241: RuntimeWarning: pyarrow.lib._Tabular size changed, may indicate binary incompatibility. Expected 24 from C header, got 32 from PyObject\n",
      "<frozen importlib._bootstrap>:241: RuntimeWarning: pyarrow.lib.Table size changed, may indicate binary incompatibility. Expected 56 from C header, got 64 from PyObject\n"
     ]
    }
   ],
   "source": [
    "import shutil\n",
    "from pathlib import Path\n",
    "from tqdm.auto import tqdm\n",
    "from spatialdata_io import xenium"
   ]
  },
  {
   "cell_type": "markdown",
   "metadata": {},
   "source": [
    "## Function: `convert_to_zarr`\n",
    "\n",
    "This function performs the conversion from a Xenium dataset to a Zarr file.\n",
    "\n",
    "**Parameters:**\n",
    "- `input_dir` (str): Path to the input Xenium dataset directory.\n",
    "- `output_file` (str): Path where the output Zarr file will be stored.\n",
    "\n",
    "**Process:**\n",
    "1. Reads the Xenium dataset using `spatialdata_io.xenium`.\n",
    "2. Checks if the target Zarr directory exists and removes it if so.\n",
    "3. Writes the `SpatialData` object to the Zarr backing store.\n",
    "4. Prints confirmation of the saved data.\n"
   ]
  },
  {
   "cell_type": "code",
   "execution_count": 2,
   "metadata": {
    "execution": {
     "iopub.execute_input": "2025-03-11T16:41:39.441785Z",
     "iopub.status.busy": "2025-03-11T16:41:39.441066Z",
     "iopub.status.idle": "2025-03-11T16:41:39.447650Z",
     "shell.execute_reply": "2025-03-11T16:41:39.446654Z",
     "shell.execute_reply.started": "2025-03-11T16:41:39.441763Z"
    },
    "metadata": {}
   },
   "outputs": [],
   "source": [
    "def convert_to_zarr(input_dir, output_file):\n",
    "    \"\"\"\n",
    "    Convert a Xenium dataset to Zarr format using spatialdat_io xenium function.\n",
    "    Zarr format is a condensed version of the spatial dataset and allows us to load in SpatialData objects for analysis.\n",
    "    Args:\n",
    "        input_dir (str): Path to the input Xenium dataset directory.\n",
    "        output_file (str): Path to the output Zarr file.\n",
    "\n",
    "    \"\"\"\n",
    "    input_path = Path(input_dir)\n",
    "    output_path = Path(output_file)\n",
    "\n",
    "    sdata = xenium(input_path)\n",
    "\n",
    "    if output_path.exists():\n",
    "        shutil.rmtree(output_path)\n",
    "    sdata.write(output_path)\n",
    "\n",
    "    print(f\"Saved merscope data:\\n{sdata}\")"
   ]
  },
  {
   "cell_type": "markdown",
   "metadata": {},
   "source": [
    "## Iterating Through the Datasets\n",
    "\n",
    "This section of the notebook iterates through all the directories in the specified input path. It:\n",
    "- Extracts a name from the directory name.\n",
    "- Generates an output path for the corresponding Zarr file.\n",
    "- Calls the `convert_to_zarr` function for each dataset."
   ]
  },
  {
   "cell_type": "code",
   "execution_count": 3,
   "metadata": {
    "execution": {
     "iopub.execute_input": "2025-03-11T16:41:39.448677Z",
     "iopub.status.busy": "2025-03-11T16:41:39.448548Z",
     "iopub.status.idle": "2025-03-11T17:18:58.239198Z",
     "shell.execute_reply": "2025-03-11T17:18:58.237465Z",
     "shell.execute_reply.started": "2025-03-11T16:41:39.448665Z"
    }
   },
   "outputs": [
    {
     "data": {
      "application/vnd.jupyter.widget-view+json": {
       "model_id": "ef8487f52d664884b3b471ae5b603f99",
       "version_major": 2,
       "version_minor": 0
      },
      "text/plain": [
       "0it [00:00, ?it/s]"
      ]
     },
     "metadata": {},
     "output_type": "display_data"
    },
    {
     "name": "stdout",
     "output_type": "stream",
     "text": [
      "\u001b[34mINFO    \u001b[0m reading                                                                                                   \n",
      "         \u001b[35m/tscc/projects/ps-yeolab5/share/CNT/Naga/synapse/data/20240814__184334__240814_MEI_YEOLAB_MsCoronal_Sag/ou\u001b[0m\n",
      "         \u001b[35mtput-XETG00224__0040870__coronal2__20240814__184433/\u001b[0m\u001b[95mcell_feature_matrix.h5\u001b[0m                                \n"
     ]
    },
    {
     "name": "stderr",
     "output_type": "stream",
     "text": [
      "/tmp/ipykernel_2786478/3552772627.py:13: DeprecationWarning: The default value of `cells_as_circles` will change to `False` in the next release. Please pass `True` explicitly to maintain the current behavior.\n",
      "  sdata = xenium(input_path)\n",
      "/opt/conda/lib/python3.11/site-packages/tifffile/tifffile.py:8884: UserWarning: <tifffile.TiffPage 0 @16> reading array from closed file\n",
      "  warnings.warn(\n"
     ]
    },
    {
     "name": "stdout",
     "output_type": "stream",
     "text": [
      "\u001b[34mINFO    \u001b[0m The Zarr backing store has been changed from \u001b[3;35mNone\u001b[0m the new file path:                                      \n",
      "         \u001b[35m/tscc/nfs/home/bay001/projects/karen_synapse_20240529/permanent_data/dylan_work/sdata/\u001b[0m\u001b[95mcoronal2.zarr\u001b[0m       \n",
      "Saved merscope data:\n",
      "SpatialData object, with associated Zarr store: /tscc/projects/ps-yeolab3/bay001/karen_synapse_20240529/permanent_data/dylan_work/sdata/coronal2.zarr\n",
      "├── Images\n",
      "│     └── 'morphology_focus': DataTree[cyx] (5, 23975, 36993), (5, 11987, 18496), (5, 5993, 9248), (5, 2996, 4624), (5, 1498, 2312)\n",
      "├── Labels\n",
      "│     ├── 'cell_labels': DataTree[yx] (23975, 36993), (11987, 18496), (5993, 9248), (2996, 4624), (1498, 2312)\n",
      "│     └── 'nucleus_labels': DataTree[yx] (23975, 36993), (11987, 18496), (5993, 9248), (2996, 4624), (1498, 2312)\n",
      "├── Points\n",
      "│     └── 'transcripts': DataFrame with shape: (<Delayed>, 13) (3D points)\n",
      "├── Shapes\n",
      "│     ├── 'cell_boundaries': GeoDataFrame shape: (81375, 1) (2D shapes)\n",
      "│     ├── 'cell_circles': GeoDataFrame shape: (81375, 2) (2D shapes)\n",
      "│     └── 'nucleus_boundaries': GeoDataFrame shape: (80099, 1) (2D shapes)\n",
      "└── Tables\n",
      "      └── 'table': AnnData (81375, 5006)\n",
      "with coordinate systems:\n",
      "    ▸ 'global', with elements:\n",
      "        morphology_focus (Images), cell_labels (Labels), nucleus_labels (Labels), transcripts (Points), cell_boundaries (Shapes), cell_circles (Shapes), nucleus_boundaries (Shapes)\n",
      "\u001b[34mINFO    \u001b[0m reading                                                                                                   \n",
      "         \u001b[35m/tscc/projects/ps-yeolab5/share/CNT/Naga/synapse/data/20240814__184334__240814_MEI_YEOLAB_MsCoronal_Sag/ou\u001b[0m\n",
      "         \u001b[35mtput-XETG00224__0040870__coronal3__20240814__184433/\u001b[0m\u001b[95mcell_feature_matrix.h5\u001b[0m                                \n"
     ]
    },
    {
     "name": "stderr",
     "output_type": "stream",
     "text": [
      "/tmp/ipykernel_2786478/3552772627.py:13: DeprecationWarning: The default value of `cells_as_circles` will change to `False` in the next release. Please pass `True` explicitly to maintain the current behavior.\n",
      "  sdata = xenium(input_path)\n",
      "/opt/conda/lib/python3.11/site-packages/tifffile/tifffile.py:8884: UserWarning: <tifffile.TiffPage 0 @16> reading array from closed file\n",
      "  warnings.warn(\n"
     ]
    },
    {
     "name": "stdout",
     "output_type": "stream",
     "text": [
      "\u001b[34mINFO    \u001b[0m The Zarr backing store has been changed from \u001b[3;35mNone\u001b[0m the new file path:                                      \n",
      "         \u001b[35m/tscc/nfs/home/bay001/projects/karen_synapse_20240529/permanent_data/dylan_work/sdata/\u001b[0m\u001b[95mcoronal3.zarr\u001b[0m       \n",
      "Saved merscope data:\n",
      "SpatialData object, with associated Zarr store: /tscc/projects/ps-yeolab3/bay001/karen_synapse_20240529/permanent_data/dylan_work/sdata/coronal3.zarr\n",
      "├── Images\n",
      "│     └── 'morphology_focus': DataTree[cyx] (5, 30759, 39849), (5, 15379, 19924), (5, 7689, 9962), (5, 3844, 4981), (5, 1922, 2490)\n",
      "├── Labels\n",
      "│     ├── 'cell_labels': DataTree[yx] (30759, 39849), (15379, 19924), (7689, 9962), (3844, 4981), (1922, 2490)\n",
      "│     └── 'nucleus_labels': DataTree[yx] (30759, 39849), (15379, 19924), (7689, 9962), (3844, 4981), (1922, 2490)\n",
      "├── Points\n",
      "│     └── 'transcripts': DataFrame with shape: (<Delayed>, 13) (3D points)\n",
      "├── Shapes\n",
      "│     ├── 'cell_boundaries': GeoDataFrame shape: (137686, 1) (2D shapes)\n",
      "│     ├── 'cell_circles': GeoDataFrame shape: (137686, 2) (2D shapes)\n",
      "│     └── 'nucleus_boundaries': GeoDataFrame shape: (136117, 1) (2D shapes)\n",
      "└── Tables\n",
      "      └── 'table': AnnData (137686, 5006)\n",
      "with coordinate systems:\n",
      "    ▸ 'global', with elements:\n",
      "        morphology_focus (Images), cell_labels (Labels), nucleus_labels (Labels), transcripts (Points), cell_boundaries (Shapes), cell_circles (Shapes), nucleus_boundaries (Shapes)\n",
      "\u001b[34mINFO    \u001b[0m reading                                                                                                   \n",
      "         \u001b[35m/tscc/projects/ps-yeolab5/share/CNT/Naga/synapse/data/20240814__184334__240814_MEI_YEOLAB_MsCoronal_Sag/ou\u001b[0m\n",
      "         \u001b[35mtput-XETG00224__0040872__sagittal1__20240814__184433/\u001b[0m\u001b[95mcell_feature_matrix.h5\u001b[0m                               \n"
     ]
    },
    {
     "name": "stderr",
     "output_type": "stream",
     "text": [
      "/tmp/ipykernel_2786478/3552772627.py:13: DeprecationWarning: The default value of `cells_as_circles` will change to `False` in the next release. Please pass `True` explicitly to maintain the current behavior.\n",
      "  sdata = xenium(input_path)\n",
      "/opt/conda/lib/python3.11/site-packages/tifffile/tifffile.py:8884: UserWarning: <tifffile.TiffPage 0 @16> reading array from closed file\n",
      "  warnings.warn(\n"
     ]
    },
    {
     "name": "stdout",
     "output_type": "stream",
     "text": [
      "\u001b[34mINFO    \u001b[0m The Zarr backing store has been changed from \u001b[3;35mNone\u001b[0m the new file path:                                      \n",
      "         \u001b[35m/tscc/nfs/home/bay001/projects/karen_synapse_20240529/permanent_data/dylan_work/sdata/\u001b[0m\u001b[95msagittal1.zarr\u001b[0m      \n",
      "Saved merscope data:\n",
      "SpatialData object, with associated Zarr store: /tscc/projects/ps-yeolab3/bay001/karen_synapse_20240529/permanent_data/dylan_work/sdata/sagittal1.zarr\n",
      "├── Images\n",
      "│     └── 'morphology_focus': DataTree[cyx] (5, 47662, 28550), (5, 23831, 14275), (5, 11915, 7137), (5, 5957, 3568), (5, 2978, 1784)\n",
      "├── Labels\n",
      "│     ├── 'cell_labels': DataTree[yx] (47662, 28550), (23831, 14275), (11915, 7137), (5957, 3568), (2978, 1784)\n",
      "│     └── 'nucleus_labels': DataTree[yx] (47662, 28550), (23831, 14275), (11915, 7137), (5957, 3568), (2978, 1784)\n",
      "├── Points\n",
      "│     └── 'transcripts': DataFrame with shape: (<Delayed>, 13) (3D points)\n",
      "├── Shapes\n",
      "│     ├── 'cell_boundaries': GeoDataFrame shape: (134957, 1) (2D shapes)\n",
      "│     ├── 'cell_circles': GeoDataFrame shape: (134957, 2) (2D shapes)\n",
      "│     └── 'nucleus_boundaries': GeoDataFrame shape: (132132, 1) (2D shapes)\n",
      "└── Tables\n",
      "      └── 'table': AnnData (134957, 5006)\n",
      "with coordinate systems:\n",
      "    ▸ 'global', with elements:\n",
      "        morphology_focus (Images), cell_labels (Labels), nucleus_labels (Labels), transcripts (Points), cell_boundaries (Shapes), cell_circles (Shapes), nucleus_boundaries (Shapes)\n",
      "\u001b[34mINFO    \u001b[0m reading                                                                                                   \n",
      "         \u001b[35m/tscc/projects/ps-yeolab5/share/CNT/Naga/synapse/data/20240814__184334__240814_MEI_YEOLAB_MsCoronal_Sag/ou\u001b[0m\n",
      "         \u001b[35mtput-XETG00224__0040872__sagittal2__20240814__184433/\u001b[0m\u001b[95mcell_feature_matrix.h5\u001b[0m                               \n"
     ]
    },
    {
     "name": "stderr",
     "output_type": "stream",
     "text": [
      "/tmp/ipykernel_2786478/3552772627.py:13: DeprecationWarning: The default value of `cells_as_circles` will change to `False` in the next release. Please pass `True` explicitly to maintain the current behavior.\n",
      "  sdata = xenium(input_path)\n",
      "/opt/conda/lib/python3.11/site-packages/tifffile/tifffile.py:8884: UserWarning: <tifffile.TiffPage 0 @16> reading array from closed file\n",
      "  warnings.warn(\n"
     ]
    },
    {
     "name": "stdout",
     "output_type": "stream",
     "text": [
      "\u001b[34mINFO    \u001b[0m The Zarr backing store has been changed from \u001b[3;35mNone\u001b[0m the new file path:                                      \n",
      "         \u001b[35m/tscc/nfs/home/bay001/projects/karen_synapse_20240529/permanent_data/dylan_work/sdata/\u001b[0m\u001b[95msagittal2.zarr\u001b[0m      \n",
      "Saved merscope data:\n",
      "SpatialData object, with associated Zarr store: /tscc/projects/ps-yeolab3/bay001/karen_synapse_20240529/permanent_data/dylan_work/sdata/sagittal2.zarr\n",
      "├── Images\n",
      "│     └── 'morphology_focus': DataTree[cyx] (5, 27309, 39845), (5, 13654, 19922), (5, 6827, 9961), (5, 3413, 4980), (5, 1706, 2490)\n",
      "├── Labels\n",
      "│     ├── 'cell_labels': DataTree[yx] (27309, 39845), (13654, 19922), (6827, 9961), (3413, 4980), (1706, 2490)\n",
      "│     └── 'nucleus_labels': DataTree[yx] (27309, 39845), (13654, 19922), (6827, 9961), (3413, 4980), (1706, 2490)\n",
      "├── Points\n",
      "│     └── 'transcripts': DataFrame with shape: (<Delayed>, 13) (3D points)\n",
      "├── Shapes\n",
      "│     ├── 'cell_boundaries': GeoDataFrame shape: (72366, 1) (2D shapes)\n",
      "│     ├── 'cell_circles': GeoDataFrame shape: (72366, 2) (2D shapes)\n",
      "│     └── 'nucleus_boundaries': GeoDataFrame shape: (71293, 1) (2D shapes)\n",
      "└── Tables\n",
      "      └── 'table': AnnData (72366, 5006)\n",
      "with coordinate systems:\n",
      "    ▸ 'global', with elements:\n",
      "        morphology_focus (Images), cell_labels (Labels), nucleus_labels (Labels), transcripts (Points), cell_boundaries (Shapes), cell_circles (Shapes), nucleus_boundaries (Shapes)\n",
      "\u001b[34mINFO    \u001b[0m reading                                                                                                   \n",
      "         \u001b[35m/tscc/projects/ps-yeolab5/share/CNT/Naga/synapse/data/20240814__184334__240814_MEI_YEOLAB_MsCoronal_Sag/ou\u001b[0m\n",
      "         \u001b[35mtput-XETG00224__0040870__coronal1__20240814__184433/\u001b[0m\u001b[95mcell_feature_matrix.h5\u001b[0m                                \n"
     ]
    },
    {
     "name": "stderr",
     "output_type": "stream",
     "text": [
      "/tmp/ipykernel_2786478/3552772627.py:13: DeprecationWarning: The default value of `cells_as_circles` will change to `False` in the next release. Please pass `True` explicitly to maintain the current behavior.\n",
      "  sdata = xenium(input_path)\n",
      "/opt/conda/lib/python3.11/site-packages/tifffile/tifffile.py:8884: UserWarning: <tifffile.TiffPage 0 @16> reading array from closed file\n",
      "  warnings.warn(\n"
     ]
    },
    {
     "name": "stdout",
     "output_type": "stream",
     "text": [
      "\u001b[34mINFO    \u001b[0m The Zarr backing store has been changed from \u001b[3;35mNone\u001b[0m the new file path:                                      \n",
      "         \u001b[35m/tscc/nfs/home/bay001/projects/karen_synapse_20240529/permanent_data/dylan_work/sdata/\u001b[0m\u001b[95mcoronal1.zarr\u001b[0m       \n",
      "Saved merscope data:\n",
      "SpatialData object, with associated Zarr store: /tscc/projects/ps-yeolab3/bay001/karen_synapse_20240529/permanent_data/dylan_work/sdata/coronal1.zarr\n",
      "├── Images\n",
      "│     └── 'morphology_focus': DataTree[cyx] (5, 30735, 42643), (5, 15367, 21321), (5, 7683, 10660), (5, 3841, 5330), (5, 1920, 2665)\n",
      "├── Labels\n",
      "│     ├── 'cell_labels': DataTree[yx] (30735, 42643), (15367, 21321), (7683, 10660), (3841, 5330), (1920, 2665)\n",
      "│     └── 'nucleus_labels': DataTree[yx] (30735, 42643), (15367, 21321), (7683, 10660), (3841, 5330), (1920, 2665)\n",
      "├── Points\n",
      "│     └── 'transcripts': DataFrame with shape: (<Delayed>, 13) (3D points)\n",
      "├── Shapes\n",
      "│     ├── 'cell_boundaries': GeoDataFrame shape: (118618, 1) (2D shapes)\n",
      "│     ├── 'cell_circles': GeoDataFrame shape: (118618, 2) (2D shapes)\n",
      "│     └── 'nucleus_boundaries': GeoDataFrame shape: (116511, 1) (2D shapes)\n",
      "└── Tables\n",
      "      └── 'table': AnnData (118618, 5006)\n",
      "with coordinate systems:\n",
      "    ▸ 'global', with elements:\n",
      "        morphology_focus (Images), cell_labels (Labels), nucleus_labels (Labels), transcripts (Points), cell_boundaries (Shapes), cell_circles (Shapes), nucleus_boundaries (Shapes)\n"
     ]
    }
   ],
   "source": [
    "# Iterate through all directories in the input directory and converts datsets to Zarr format\n",
    "for input_dir in tqdm(Path(\"/tscc/projects/ps-yeolab5/share/CNT/Naga/synapse/data/\").glob(\"20240814__184334__240814_MEI_YEOLAB_MsCoronal_Sag/*\")):\n",
    "    name = input_dir.name.split('_')[4]\n",
    "    output_file = Path(r\"/tscc/nfs/home/bay001/projects/karen_synapse_20240529/permanent_data/dylan_work/sdata/\") / f\"{name}.zarr\"\n",
    "    convert_to_zarr(input_dir, output_file)"
   ]
  },
  {
   "cell_type": "code",
   "execution_count": null,
   "metadata": {},
   "outputs": [],
   "source": []
  }
 ],
 "metadata": {
  "kernelspec": {
   "display_name": "Python 3 (ipykernel)",
   "language": "python",
   "name": "python3"
  },
  "language_info": {
   "codemirror_mode": {
    "name": "ipython",
    "version": 3
   },
   "file_extension": ".py",
   "mimetype": "text/x-python",
   "name": "python",
   "nbconvert_exporter": "python",
   "pygments_lexer": "ipython3",
   "version": "3.11.11"
  }
 },
 "nbformat": 4,
 "nbformat_minor": 4
}
